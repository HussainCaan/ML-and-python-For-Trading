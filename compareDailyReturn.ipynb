{
 "cells": [
  {
   "cell_type": "code",
   "execution_count": 7,
   "metadata": {},
   "outputs": [
    {
     "data": {
      "text/plain": [
       "180"
      ]
     },
     "execution_count": 7,
     "metadata": {},
     "output_type": "execute_result"
    }
   ],
   "source": [
    "import pandas as pd\n",
    "import matplotlib.pyplot as plt\n",
    "\n",
    "\n",
    "\n",
    "def histogramplotting(fordClosePrice,appleClosePrice):\n",
    "    daily_returnsFord = pd.Series(index=fordClosePrice.index)\n",
    "    daily_returnsApple = pd.Series(index=appleClosePrice.index)\n",
    "\n",
    "    daily_returnsFord[1:] =(fordClosePrice[1:].values / fordClosePrice[:-1]) - 1\n",
    "    daily_returnsApple[1:] =(appleClosePrice[1:].values / appleClosePrice[:-1]) - 1\n",
    "\n",
    "\n",
    "    plt.hist(daily_returnsFord,label='Ford',bins=20,edgecolor = 'black')\n",
    "    plt.hist(daily_returnsApple,label='apple',bins=20,edgecolor = 'black')\n",
    "    plt.legend()\n",
    "    plt.show()\n",
    "\n",
    "\n",
    "\n",
    "ford = pd.read_excel(\"Ford data with MACD.xlsx\")\n",
    "apple = pd.read_excel(\"Apple stock data.xlsx\")\n",
    "\n",
    "ford = pd.DataFrame(ford)\n",
    "apple = pd.DataFrame(apple)\n",
    "\n",
    "ford.set_index('Date',inplace=True)\n",
    "apple.set_index('Date',inplace=True)\n",
    "ford.drop(columns=['Unnamed: 0'], inplace=True)\n",
    "ford = ford['5/1/2021':]\n",
    "\n",
    "\n",
    "fordClosePrice = ford['Close']\n",
    "appleClosePrice = apple['Close']\n",
    "histogramplotting(fordClosePrice,appleClosePrice)\n"
   ]
  }
 ],
 "metadata": {
  "kernelspec": {
   "display_name": "Python 3",
   "language": "python",
   "name": "python3"
  },
  "language_info": {
   "codemirror_mode": {
    "name": "ipython",
    "version": 3
   },
   "file_extension": ".py",
   "mimetype": "text/x-python",
   "name": "python",
   "nbconvert_exporter": "python",
   "pygments_lexer": "ipython3",
   "version": "3.11.4"
  }
 },
 "nbformat": 4,
 "nbformat_minor": 2
}
